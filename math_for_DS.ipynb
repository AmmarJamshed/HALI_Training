{
  "nbformat": 4,
  "nbformat_minor": 0,
  "metadata": {
    "colab": {
      "provenance": [],
      "authorship_tag": "ABX9TyO5FXs8NnpuAlwhOthyPueo",
      "include_colab_link": true
    },
    "kernelspec": {
      "name": "python3",
      "display_name": "Python 3"
    },
    "language_info": {
      "name": "python"
    }
  },
  "cells": [
    {
      "cell_type": "markdown",
      "metadata": {
        "id": "view-in-github",
        "colab_type": "text"
      },
      "source": [
        "<a href=\"https://colab.research.google.com/github/AmmarJamshed/HALI_Training/blob/main/math_for_DS.ipynb\" target=\"_parent\"><img src=\"https://colab.research.google.com/assets/colab-badge.svg\" alt=\"Open In Colab\"/></a>"
      ]
    },
    {
      "cell_type": "markdown",
      "source": [
        "# Arthemetic"
      ],
      "metadata": {
        "id": "wKO8te5StaU4"
      }
    },
    {
      "cell_type": "code",
      "execution_count": 15,
      "metadata": {
        "colab": {
          "base_uri": "https://localhost:8080/"
        },
        "id": "eqkjM2UYtS7X",
        "outputId": "b1845c0b-533a-4cb9-eb26-cf17072fc5cd"
      },
      "outputs": [
        {
          "output_type": "stream",
          "name": "stdout",
          "text": [
            "Revenue: $5000\n",
            "Total Cost: $3000\n",
            "Profit: $2000\n"
          ]
        }
      ],
      "source": [
        "# Suppose you sell 100 units of a product at $50 each. The cost per unit is $30.\n",
        "units_sold = 100\n",
        "selling_price_per_unit = 50\n",
        "cost_per_unit = 30\n",
        "\n",
        "# Revenue Calculation\n",
        "revenue = units_sold * selling_price_per_unit\n",
        "\n",
        "# Cost Calculation\n",
        "total_cost = units_sold * cost_per_unit\n",
        "\n",
        "# Profit Calculation\n",
        "profit = revenue - total_cost\n",
        "\n",
        "print(f\"Revenue: ${revenue}\")\n",
        "print(f\"Total Cost: ${total_cost}\")\n",
        "print(f\"Profit: ${profit}\")"
      ]
    },
    {
      "cell_type": "code",
      "source": [],
      "metadata": {
        "id": "00OnAghrtX2t"
      },
      "execution_count": null,
      "outputs": []
    },
    {
      "cell_type": "markdown",
      "source": [
        "# Linear Algebra"
      ],
      "metadata": {
        "id": "6ORZlMLstYhV"
      }
    },
    {
      "cell_type": "code",
      "source": [
        "import numpy as np\n",
        "\n",
        "# Each vector represents a customer rating for three different features of a product\n",
        "customer_1 = np.array([4, 3, 5])  # Ratings: [Design, Quality, Price]\n",
        "customer_2 = np.array([5, 4, 4])\n",
        "\n",
        "# Finding the average preference vector\n",
        "average_preference = (customer_1 + customer_2) / 2\n",
        "\n",
        "print(f\"Average Customer Preference: {average_preference}\")"
      ],
      "metadata": {
        "colab": {
          "base_uri": "https://localhost:8080/"
        },
        "id": "3QWtZLuRtjET",
        "outputId": "77ea6173-3132-4593-e394-3e0ec0861ea5"
      },
      "execution_count": 16,
      "outputs": [
        {
          "output_type": "stream",
          "name": "stdout",
          "text": [
            "Average Customer Preference: [4.5 3.5 4.5]\n"
          ]
        }
      ]
    },
    {
      "cell_type": "markdown",
      "source": [
        "# Matrices"
      ],
      "metadata": {
        "id": "6B_yGsyttpIE"
      }
    },
    {
      "cell_type": "code",
      "source": [
        "# Rows represent regions, columns represent products\n",
        "sales_data = np.array([[100, 150, 200], [120, 160, 220]])  # Sales data for two regions and three products\n",
        "\n",
        "# Matrix transpose to switch rows and columns\n",
        "transposed_sales = np.transpose(sales_data)\n",
        "\n",
        "print(f\"Original Sales Data:\\n{sales_data}\")\n",
        "print(f\"Transposed Sales Data:\\n{transposed_sales}\")"
      ],
      "metadata": {
        "colab": {
          "base_uri": "https://localhost:8080/"
        },
        "id": "qLV_ASthtnUN",
        "outputId": "02763519-55bc-449f-c5f9-c4ebbf1cc9bc"
      },
      "execution_count": 17,
      "outputs": [
        {
          "output_type": "stream",
          "name": "stdout",
          "text": [
            "Original Sales Data:\n",
            "[[100 150 200]\n",
            " [120 160 220]]\n",
            "Transposed Sales Data:\n",
            "[[100 120]\n",
            " [150 160]\n",
            " [200 220]]\n"
          ]
        }
      ]
    },
    {
      "cell_type": "markdown",
      "source": [
        "# Calculus"
      ],
      "metadata": {
        "id": "O06mL6NCt5sj"
      }
    },
    {
      "cell_type": "code",
      "source": [
        "import sympy as sp\n",
        "\n",
        "# Let x represent price, and profit be a function of price\n",
        "x = sp.symbols('x')\n",
        "profit_function = -2*x**2 + 300*x - 1000\n",
        "\n",
        "# Differentiate profit function to find marginal profit\n",
        "marginal_profit = sp.diff(profit_function, x)\n",
        "\n",
        "print(f\"Profit Function: {profit_function}\")\n",
        "print(f\"Marginal Profit Function: {marginal_profit}\")"
      ],
      "metadata": {
        "colab": {
          "base_uri": "https://localhost:8080/"
        },
        "id": "CzQdf8Lat6qv",
        "outputId": "d14835ee-bd0c-401f-9639-3297570f388b"
      },
      "execution_count": 18,
      "outputs": [
        {
          "output_type": "stream",
          "name": "stdout",
          "text": [
            "Profit Function: -2*x**2 + 300*x - 1000\n",
            "Marginal Profit Function: 300 - 4*x\n"
          ]
        }
      ]
    },
    {
      "cell_type": "code",
      "source": [
        "# Integrating the profit function to find total profit over a range\n",
        "total_profit = sp.integrate(profit_function, (x, 0, 100))\n",
        "\n",
        "print(f\"Total Profit over the range [0, 100]: {total_profit}\")"
      ],
      "metadata": {
        "colab": {
          "base_uri": "https://localhost:8080/"
        },
        "id": "TW_lDvTUt9Xj",
        "outputId": "15a6962e-52d4-47d8-99a0-7c0b5d0c98c1"
      },
      "execution_count": 19,
      "outputs": [
        {
          "output_type": "stream",
          "name": "stdout",
          "text": [
            "Total Profit over the range [0, 100]: 2200000/3\n"
          ]
        }
      ]
    },
    {
      "cell_type": "markdown",
      "source": [
        "# Correlation and Covariance"
      ],
      "metadata": {
        "id": "Ip9RgLJfuKfW"
      }
    },
    {
      "cell_type": "code",
      "source": [
        "# Sample data\n",
        "ad_spend = [100, 200, 300, 400, 500]\n",
        "sales_revenue = [20, 40, 60, 80, 100]\n",
        "\n",
        "correlation = np.corrcoef(ad_spend, sales_revenue)[0, 1]\n",
        "\n",
        "print(f\"Correlation between Ad Spend and Sales Revenue: {correlation}\")"
      ],
      "metadata": {
        "colab": {
          "base_uri": "https://localhost:8080/"
        },
        "id": "QeTdBmjbuDKa",
        "outputId": "8dceb00b-e9a2-460b-e328-5cbdea723158"
      },
      "execution_count": 20,
      "outputs": [
        {
          "output_type": "stream",
          "name": "stdout",
          "text": [
            "Correlation between Ad Spend and Sales Revenue: 0.9999999999999999\n"
          ]
        }
      ]
    },
    {
      "cell_type": "code",
      "source": [
        "product_A_sales = [200, 220, 250, 270, 300]\n",
        "product_B_sales = [150, 160, 180, 200, 230]\n",
        "\n",
        "covariance_matrix = np.cov(product_A_sales, product_B_sales)\n",
        "\n",
        "print(f\"Covariance between Product A and Product B Sales:\\n{covariance_matrix}\")"
      ],
      "metadata": {
        "colab": {
          "base_uri": "https://localhost:8080/"
        },
        "id": "DGX5cC1DwiEP",
        "outputId": "d6a211d1-161a-44ca-d599-062fd22e5087"
      },
      "execution_count": 21,
      "outputs": [
        {
          "output_type": "stream",
          "name": "stdout",
          "text": [
            "Covariance between Product A and Product B Sales:\n",
            "[[1570. 1260.]\n",
            " [1260. 1030.]]\n"
          ]
        }
      ]
    },
    {
      "cell_type": "code",
      "source": [
        "import matplotlib.pyplot as plt\n",
        "\n",
        "def gradient_descent(x_start, learning_rate, iterations):\n",
        "    x = x_start\n",
        "    x_values = []  # List to store x values at each iteration\n",
        "    for _ in range(iterations):\n",
        "        gradient = 2 * x  # derivative of f(x) = x^2\n",
        "        x = x - learning_rate * gradient\n",
        "        x_values.append(x)\n",
        "    return x, x_values\n",
        "\n",
        "# Initial values\n",
        "x_start = 10\n",
        "learning_rate = 0.1\n",
        "iterations = 100\n",
        "\n",
        "minimized_value, x_values = gradient_descent(x_start, learning_rate, iterations)"
      ],
      "metadata": {
        "id": "XeDRyNjguMo4"
      },
      "execution_count": 13,
      "outputs": []
    },
    {
      "cell_type": "code",
      "source": [
        "# Plotting the progress\n",
        "plt.plot(range(iterations), x_values, label='Value of x')\n",
        "plt.xlabel('Iteration')\n",
        "plt.ylabel('Value of x')\n",
        "plt.title('Gradient Descent Progress')\n",
        "plt.legend()\n",
        "plt.show()\n",
        "\n",
        "print(f\"Minimized Value: {minimized_value}\")"
      ],
      "metadata": {
        "colab": {
          "base_uri": "https://localhost:8080/",
          "height": 489
        },
        "id": "WSD5WRPAuS2C",
        "outputId": "a68ee31d-d31b-4594-cd36-ef7ce3deffc0"
      },
      "execution_count": 14,
      "outputs": [
        {
          "output_type": "display_data",
          "data": {
            "text/plain": [
              "<Figure size 640x480 with 1 Axes>"
            ],
            "image/png": "[encoded data removed]"
          },
          "metadata": {}
        },
        {
          "output_type": "stream",
          "name": "stdout",
          "text": [
            "Minimized Value: 2.0370359763344878e-09\n"
          ]
        }
      ]
    },
    {
      "cell_type": "code",
      "source": [],
      "metadata": {
        "id": "UDSI0L0IuqP8"
      },
      "execution_count": null,
      "outputs": []
    }
  ]
}